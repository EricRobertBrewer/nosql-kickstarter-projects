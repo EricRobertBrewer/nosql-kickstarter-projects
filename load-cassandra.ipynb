{
 "cells": [
  {
   "cell_type": "code",
   "execution_count": null,
   "metadata": {
    "collapsed": true
   },
   "outputs": [],
   "source": [
    "from cassandra.cluster import Cluster\n",
    "import pandas as pd\n",
    "import datetime"
   ]
  },
  {
   "cell_type": "code",
   "execution_count": null,
   "metadata": {},
   "outputs": [],
   "source": [
    "data = pd.read_csv('ks-projects-201801.csv')\n",
    "data.head()"
   ]
  },
  {
   "cell_type": "code",
   "execution_count": null,
   "metadata": {},
   "outputs": [],
   "source": [
    "data.describe()"
   ]
  },
  {
   "cell_type": "code",
   "execution_count": null,
   "metadata": {
    "collapsed": true
   },
   "outputs": [],
   "source": [
    "# The keyspace should have already been created using `cqlsh`:\n",
    "# ---\n",
    "# cqlsh> CREATE KEYSPACE kickstarter WITH replication = {'class':'SimpleStrategy', 'replication_factor':1};\n",
    "# ---\n",
    "# Also, the `projects` table should have been created already (with correct data types):\n",
    "# ```\n",
    "# cqlsh> CREATE TABLE IF NOT EXISTS kickstarter.projects (\n",
    "#                ... ID bigint PRIMARY KEY,\n",
    "#                ... name varchar,\n",
    "#                ... category varchar,\n",
    "#                ... main_category varchar,\n",
    "#                ... currency varchar,\n",
    "#                ... deadline date,\n",
    "#                ... goal decimal,\n",
    "#                ... launched timestamp,\n",
    "#                ... pledged decimal,\n",
    "#                ... state varchar,\n",
    "#                ... backers int,\n",
    "#                ... country varchar,\n",
    "#                ... usd_pledged decimal,\n",
    "#                ... usd_pledged_real decimal,\n",
    "#                ... usd_goal_real decimal);\n",
    "# ```\n",
    "cluster = Cluster(port=9042)\n",
    "session = cluster.connect('kickstarter')"
   ]
  },
  {
   "cell_type": "code",
   "execution_count": null,
   "metadata": {},
   "outputs": [],
   "source": [
    "column_names = list(data.columns.values)\n",
    "names_str = column_names[0]\n",
    "for name in column_names[1:]:\n",
    "    names_str += ',' + name\n",
    "names_str"
   ]
  },
  {
   "cell_type": "code",
   "execution_count": null,
   "metadata": {},
   "outputs": [],
   "source": [
    "# Create a prepared statement to insert rows into Cassandra.\n",
    "insert_str = 'INSERT INTO projects (' + names_str + ') VALUES (?'\n",
    "for _ in range(1, len(column_names)):\n",
    "    insert_str += ',?'\n",
    "insert_str += ')'\n",
    "insert_stmt = session.prepare(insert_str)\n",
    "items = data.to_dict('list')\n",
    "# Convert columns to the correct data types.\n",
    "items['name'] = [v if v is str else '' for v in items['name']]\n",
    "items['launched'] = [datetime.datetime.strptime(items['launched'][i], '%Y-%m-%d %H:%M:%S').date() for i in range(len(items['launched']))]\n",
    "items['usd_pledged'] = [str(v).encode('utf-8') if v is float else '0.00' for v in items['usd_pledged']]\n",
    "# Add all of the items to the table.\n",
    "projects = []\n",
    "for i in range(len(items[column_names[0]])):\n",
    "    item = [items[column_names[j]][i] for j in range(len(column_names))]\n",
    "    project = session.execute(insert_stmt, item)\n",
    "    projects.append(project)\n",
    "len(projects)"
   ]
  },
  {
   "cell_type": "code",
   "execution_count": null,
   "metadata": {},
   "outputs": [],
   "source": [
    "result = session.execute('SELECT COUNT(*) FROM projects;')\n",
    "result.current_rows"
   ]
  },
  {
   "cell_type": "code",
   "execution_count": null,
   "metadata": {
    "collapsed": true
   },
   "outputs": [],
   "source": []
  }
 ],
 "metadata": {
  "kernelspec": {
   "display_name": "Python 3",
   "language": "python",
   "name": "python3"
  },
  "language_info": {
   "codemirror_mode": {
    "name": "ipython",
    "version": 3
   },
   "file_extension": ".py",
   "mimetype": "text/x-python",
   "name": "python",
   "nbconvert_exporter": "python",
   "pygments_lexer": "ipython3",
   "version": "3.6.3"
  }
 },
 "nbformat": 4,
 "nbformat_minor": 2
}
